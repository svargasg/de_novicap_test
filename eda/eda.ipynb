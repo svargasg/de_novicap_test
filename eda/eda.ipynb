{
 "cells": [
  {
   "cell_type": "markdown",
   "id": "a19b4002",
   "metadata": {},
   "source": [
    "# Data Profiling\n",
    "\n",
    "## Prerequisites\n",
    "\n",
    "- aws credentials file correctly configured on your local machine with enough permissions to read the csv file from s3\n",
    "- python virtual environment installed and activated (will be used for this notebook)\n",
    "- python requirements installed (run step below only once)\n",
    "\n",
    "## Considerations\n",
    "\n",
    "- CSV sample file was uploaded to AWS S3 as it is (data & structure, filename was renamed), maintaining data privacy in a secure cloud environment.\n",
    "- The following script could be simpler if profiling is done on a local file instead of the aws cloud.\n",
    "\n",
    "## Next steps (advanced feature)\n",
    "\n",
    "If new files are received for profiling and automated work is required, a dag can be created in Airflow that reuses the script below to complete the following flow:\n",
    " \n",
    "read file from s3 -> generate profiling report -> upload report to the cloud"
   ]
  },
  {
   "cell_type": "code",
   "execution_count": null,
   "id": "da5c0bba",
   "metadata": {},
   "outputs": [],
   "source": [
    "# Run only once\n",
    "!pip install ydata-profiling==4.16.1\n",
    "!pip install boto3==1.26.106"
   ]
  },
  {
   "cell_type": "code",
   "execution_count": 2,
   "id": "64f2f91b",
   "metadata": {},
   "outputs": [
    {
     "name": "stderr",
     "output_type": "stream",
     "text": [
      "2025-08-18 18:54:11,964 [INFO] Reading file 'de_sample.csv' from bucket 'novi-raw-dev'...\n"
     ]
    },
    {
     "name": "stderr",
     "output_type": "stream",
     "text": [
      "2025-08-18 18:54:13,822 [INFO] File was read successfully\n",
      "2025-08-18 18:54:13,825 [INFO] Generating profiling report...\n",
      "100%|██████████| 19/19 [00:02<00:00,  8.92it/s]2<00:00, 21.39it/s, Describe variable: Tax Liens]                  \n",
      "Summarize dataset: 100%|██████████| 173/173 [00:26<00:00,  6.48it/s, Completed]                                                        \n",
      "Generate report structure: 100%|██████████| 1/1 [00:07<00:00,  7.53s/it]\n",
      "Render HTML: 100%|██████████| 1/1 [00:03<00:00,  3.51s/it]\n",
      "Export report to file: 100%|██████████| 1/1 [00:00<00:00, 75.67it/s]\n",
      "2025-08-18 18:54:52,201 [INFO] Report was exported as html in eda_report.html\n"
     ]
    }
   ],
   "source": [
    "import boto3\n",
    "import pandas as pd\n",
    "import logging\n",
    "from io import StringIO\n",
    "from ydata_profiling import ProfileReport\n",
    "\n",
    "logging.basicConfig(\n",
    "    level=logging.INFO,\n",
    "    format=\"%(asctime)s [%(levelname)s] %(message)s\",\n",
    "    force=True # Only in jupyter notebooks\n",
    ")\n",
    "logger = logging.getLogger(__name__)\n",
    "\n",
    "aws_region = 'us-east-1'\n",
    "s3_bucket_name = 'novi-raw-dev'\n",
    "s3_key = 'de_sample.csv'\n",
    "report_path = \"eda_report.html\"\n",
    "\n",
    "def s3_read_csv(bucket_name, key, aws_region):\n",
    "    try:\n",
    "        s3_client = boto3.client(\"s3\", region_name=aws_region)\n",
    "\n",
    "        logger.info(f\"Reading file '{key}' from bucket '{bucket_name}'...\")\n",
    "\n",
    "        response = s3_client.get_object(Bucket=bucket_name, Key=key)\n",
    "\n",
    "        csv_content = response[\"Body\"].read().decode(\"utf-8\")\n",
    "        df = pd.read_csv(StringIO(csv_content), sep=',', header=0, encoding='utf-8')\n",
    "\n",
    "        logger.info(\"File was read successfully\")\n",
    "        return df\n",
    "    except Exception as e:\n",
    "        logger.error(f\"ERROR: {e}\")\n",
    "        raise\n",
    "\n",
    "df = s3_read_csv(s3_bucket_name, s3_key, aws_region)\n",
    "logger.info(\"Generating profiling report...\")\n",
    "profile = ProfileReport(df, title=\"Novicap Profiling Report\")\n",
    "profile.to_file(report_path)\n",
    "logger.info(f\"Report was exported as html in {report_path}\")"
   ]
  }
 ],
 "metadata": {
  "kernelspec": {
   "display_name": "venv",
   "language": "python",
   "name": "python3"
  },
  "language_info": {
   "codemirror_mode": {
    "name": "ipython",
    "version": 3
   },
   "file_extension": ".py",
   "mimetype": "text/x-python",
   "name": "python",
   "nbconvert_exporter": "python",
   "pygments_lexer": "ipython3",
   "version": "3.8.10"
  }
 },
 "nbformat": 4,
 "nbformat_minor": 5
}
