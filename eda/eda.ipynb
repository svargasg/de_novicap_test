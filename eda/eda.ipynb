{
 "cells": [
  {
   "cell_type": "code",
   "execution_count": 8,
   "id": "da5c0bba",
   "metadata": {},
   "outputs": [
    {
     "name": "stdout",
     "output_type": "stream",
     "text": [
      "Requirement already up-to-date: ydata-profiling in /home/svargasg/de_novicap_test/venv/lib/python3.8/site-packages (4.16.1)\n",
      "Requirement already satisfied, skipping upgrade: PyYAML<6.1,>=5.0.0 in /home/svargasg/de_novicap_test/venv/lib/python3.8/site-packages (from ydata-profiling) (6.0.2)\n",
      "Requirement already satisfied, skipping upgrade: matplotlib<=3.10,>=3.5 in /home/svargasg/de_novicap_test/venv/lib/python3.8/site-packages (from ydata-profiling) (3.7.5)\n",
      "Requirement already satisfied, skipping upgrade: tqdm<5,>=4.48.2 in /home/svargasg/de_novicap_test/venv/lib/python3.8/site-packages (from ydata-profiling) (4.67.1)\n",
      "Requirement already satisfied, skipping upgrade: numba<=0.61,>=0.56.0 in /home/svargasg/de_novicap_test/venv/lib/python3.8/site-packages (from ydata-profiling) (0.58.1)\n",
      "Requirement already satisfied, skipping upgrade: wordcloud>=1.9.3 in /home/svargasg/de_novicap_test/venv/lib/python3.8/site-packages (from ydata-profiling) (1.9.4)\n",
      "Requirement already satisfied, skipping upgrade: multimethod<2,>=1.4 in /home/svargasg/de_novicap_test/venv/lib/python3.8/site-packages (from ydata-profiling) (1.10)\n",
      "Requirement already satisfied, skipping upgrade: pandas!=1.4.0,<3.0,>1.1 in /home/svargasg/de_novicap_test/venv/lib/python3.8/site-packages (from ydata-profiling) (2.0.3)\n",
      "Requirement already satisfied, skipping upgrade: requests<3,>=2.24.0 in /home/svargasg/de_novicap_test/venv/lib/python3.8/site-packages (from ydata-profiling) (2.32.4)\n",
      "Requirement already satisfied, skipping upgrade: dacite>=1.8 in /home/svargasg/de_novicap_test/venv/lib/python3.8/site-packages (from ydata-profiling) (1.9.2)\n",
      "Requirement already satisfied, skipping upgrade: pydantic>=2 in /home/svargasg/de_novicap_test/venv/lib/python3.8/site-packages (from ydata-profiling) (2.10.6)\n",
      "Requirement already satisfied, skipping upgrade: phik<0.13,>=0.11.1 in /home/svargasg/de_novicap_test/venv/lib/python3.8/site-packages (from ydata-profiling) (0.12.4)\n",
      "Requirement already satisfied, skipping upgrade: imagehash==4.3.1 in /home/svargasg/de_novicap_test/venv/lib/python3.8/site-packages (from ydata-profiling) (4.3.1)\n",
      "Requirement already satisfied, skipping upgrade: visions[type_image_path]<0.8.2,>=0.7.5 in /home/svargasg/de_novicap_test/venv/lib/python3.8/site-packages (from ydata-profiling) (0.8.1)\n",
      "\u001b[33m  WARNING: visions 0.8.1 does not provide the extra 'type_image_path'\u001b[0m\n",
      "Requirement already satisfied, skipping upgrade: numpy<2.2,>=1.16.0 in /home/svargasg/de_novicap_test/venv/lib/python3.8/site-packages (from ydata-profiling) (1.24.4)\n",
      "Requirement already satisfied, skipping upgrade: scipy<1.16,>=1.4.1 in /home/svargasg/de_novicap_test/venv/lib/python3.8/site-packages (from ydata-profiling) (1.10.1)\n",
      "Requirement already satisfied, skipping upgrade: statsmodels<1,>=0.13.2 in /home/svargasg/de_novicap_test/venv/lib/python3.8/site-packages (from ydata-profiling) (0.14.1)\n",
      "Requirement already satisfied, skipping upgrade: htmlmin==0.1.12 in /home/svargasg/de_novicap_test/venv/lib/python3.8/site-packages (from ydata-profiling) (0.1.12)\n",
      "Requirement already satisfied, skipping upgrade: seaborn<0.14,>=0.10.1 in /home/svargasg/de_novicap_test/venv/lib/python3.8/site-packages (from ydata-profiling) (0.13.2)\n",
      "Requirement already satisfied, skipping upgrade: jinja2<3.2,>=2.11.1 in /home/svargasg/de_novicap_test/venv/lib/python3.8/site-packages (from ydata-profiling) (3.1.6)\n",
      "Requirement already satisfied, skipping upgrade: typeguard<5,>=3 in /home/svargasg/de_novicap_test/venv/lib/python3.8/site-packages (from ydata-profiling) (4.4.0)\n",
      "Requirement already satisfied, skipping upgrade: contourpy>=1.0.1 in /home/svargasg/de_novicap_test/venv/lib/python3.8/site-packages (from matplotlib<=3.10,>=3.5->ydata-profiling) (1.1.1)\n",
      "Requirement already satisfied, skipping upgrade: fonttools>=4.22.0 in /home/svargasg/de_novicap_test/venv/lib/python3.8/site-packages (from matplotlib<=3.10,>=3.5->ydata-profiling) (4.57.0)\n",
      "Requirement already satisfied, skipping upgrade: cycler>=0.10 in /home/svargasg/de_novicap_test/venv/lib/python3.8/site-packages (from matplotlib<=3.10,>=3.5->ydata-profiling) (0.12.1)\n",
      "Requirement already satisfied, skipping upgrade: packaging>=20.0 in /home/svargasg/de_novicap_test/venv/lib/python3.8/site-packages (from matplotlib<=3.10,>=3.5->ydata-profiling) (25.0)\n",
      "Requirement already satisfied, skipping upgrade: kiwisolver>=1.0.1 in /home/svargasg/de_novicap_test/venv/lib/python3.8/site-packages (from matplotlib<=3.10,>=3.5->ydata-profiling) (1.4.7)\n",
      "Requirement already satisfied, skipping upgrade: pillow>=6.2.0 in /home/svargasg/de_novicap_test/venv/lib/python3.8/site-packages (from matplotlib<=3.10,>=3.5->ydata-profiling) (10.4.0)\n",
      "Requirement already satisfied, skipping upgrade: importlib-resources>=3.2.0; python_version < \"3.10\" in /home/svargasg/de_novicap_test/venv/lib/python3.8/site-packages (from matplotlib<=3.10,>=3.5->ydata-profiling) (6.4.5)\n",
      "Requirement already satisfied, skipping upgrade: python-dateutil>=2.7 in /home/svargasg/de_novicap_test/venv/lib/python3.8/site-packages (from matplotlib<=3.10,>=3.5->ydata-profiling) (2.9.0.post0)\n",
      "Requirement already satisfied, skipping upgrade: pyparsing>=2.3.1 in /home/svargasg/de_novicap_test/venv/lib/python3.8/site-packages (from matplotlib<=3.10,>=3.5->ydata-profiling) (3.1.4)\n",
      "Requirement already satisfied, skipping upgrade: llvmlite<0.42,>=0.41.0dev0 in /home/svargasg/de_novicap_test/venv/lib/python3.8/site-packages (from numba<=0.61,>=0.56.0->ydata-profiling) (0.41.1)\n",
      "Requirement already satisfied, skipping upgrade: importlib-metadata; python_version < \"3.9\" in /home/svargasg/de_novicap_test/venv/lib/python3.8/site-packages (from numba<=0.61,>=0.56.0->ydata-profiling) (8.5.0)\n",
      "Requirement already satisfied, skipping upgrade: pytz>=2020.1 in /home/svargasg/de_novicap_test/venv/lib/python3.8/site-packages (from pandas!=1.4.0,<3.0,>1.1->ydata-profiling) (2025.2)\n",
      "Requirement already satisfied, skipping upgrade: tzdata>=2022.1 in /home/svargasg/de_novicap_test/venv/lib/python3.8/site-packages (from pandas!=1.4.0,<3.0,>1.1->ydata-profiling) (2025.2)\n",
      "Requirement already satisfied, skipping upgrade: urllib3<3,>=1.21.1 in /home/svargasg/de_novicap_test/venv/lib/python3.8/site-packages (from requests<3,>=2.24.0->ydata-profiling) (2.2.3)\n",
      "Requirement already satisfied, skipping upgrade: idna<4,>=2.5 in /home/svargasg/de_novicap_test/venv/lib/python3.8/site-packages (from requests<3,>=2.24.0->ydata-profiling) (3.10)\n",
      "Requirement already satisfied, skipping upgrade: certifi>=2017.4.17 in /home/svargasg/de_novicap_test/venv/lib/python3.8/site-packages (from requests<3,>=2.24.0->ydata-profiling) (2025.8.3)\n",
      "Requirement already satisfied, skipping upgrade: charset_normalizer<4,>=2 in /home/svargasg/de_novicap_test/venv/lib/python3.8/site-packages (from requests<3,>=2.24.0->ydata-profiling) (3.4.3)\n",
      "Requirement already satisfied, skipping upgrade: pydantic-core==2.27.2 in /home/svargasg/de_novicap_test/venv/lib/python3.8/site-packages (from pydantic>=2->ydata-profiling) (2.27.2)\n",
      "Requirement already satisfied, skipping upgrade: typing-extensions>=4.12.2 in /home/svargasg/de_novicap_test/venv/lib/python3.8/site-packages (from pydantic>=2->ydata-profiling) (4.13.2)\n",
      "Requirement already satisfied, skipping upgrade: annotated-types>=0.6.0 in /home/svargasg/de_novicap_test/venv/lib/python3.8/site-packages (from pydantic>=2->ydata-profiling) (0.7.0)\n",
      "Requirement already satisfied, skipping upgrade: joblib>=0.14.1 in /home/svargasg/de_novicap_test/venv/lib/python3.8/site-packages (from phik<0.13,>=0.11.1->ydata-profiling) (1.4.2)\n",
      "Requirement already satisfied, skipping upgrade: PyWavelets in /home/svargasg/de_novicap_test/venv/lib/python3.8/site-packages (from imagehash==4.3.1->ydata-profiling) (1.4.1)\n",
      "Requirement already satisfied, skipping upgrade: puremagic in /home/svargasg/de_novicap_test/venv/lib/python3.8/site-packages (from visions[type_image_path]<0.8.2,>=0.7.5->ydata-profiling) (1.30)\n",
      "Requirement already satisfied, skipping upgrade: networkx>=2.4 in /home/svargasg/de_novicap_test/venv/lib/python3.8/site-packages (from visions[type_image_path]<0.8.2,>=0.7.5->ydata-profiling) (3.1)\n",
      "Requirement already satisfied, skipping upgrade: attrs>=19.3.0 in /home/svargasg/de_novicap_test/venv/lib/python3.8/site-packages (from visions[type_image_path]<0.8.2,>=0.7.5->ydata-profiling) (25.3.0)\n",
      "Requirement already satisfied, skipping upgrade: patsy>=0.5.4 in /home/svargasg/de_novicap_test/venv/lib/python3.8/site-packages (from statsmodels<1,>=0.13.2->ydata-profiling) (1.0.1)\n",
      "Requirement already satisfied, skipping upgrade: MarkupSafe>=2.0 in /home/svargasg/de_novicap_test/venv/lib/python3.8/site-packages (from jinja2<3.2,>=2.11.1->ydata-profiling) (2.1.5)\n",
      "Requirement already satisfied, skipping upgrade: zipp>=3.1.0; python_version < \"3.10\" in /home/svargasg/de_novicap_test/venv/lib/python3.8/site-packages (from importlib-resources>=3.2.0; python_version < \"3.10\"->matplotlib<=3.10,>=3.5->ydata-profiling) (3.20.2)\n",
      "Requirement already satisfied, skipping upgrade: six>=1.5 in /home/svargasg/de_novicap_test/venv/lib/python3.8/site-packages (from python-dateutil>=2.7->matplotlib<=3.10,>=3.5->ydata-profiling) (1.17.0)\n"
     ]
    }
   ],
   "source": [
    "!pip install -U ydata-profiling"
   ]
  },
  {
   "cell_type": "code",
   "execution_count": null,
   "id": "a3ef0218",
   "metadata": {},
   "outputs": [],
   "source": [
    "import numpy as np\n",
    "import pandas as pd\n",
    "from ydata_profiling import ProfileReport\n",
    "\n",
    "df = pd.read_csv('de_sample.csv')"
   ]
  },
  {
   "cell_type": "code",
   "execution_count": 5,
   "id": "21088595",
   "metadata": {},
   "outputs": [],
   "source": [
    "profile = ProfileReport(df, title=\"Profiling Report\")"
   ]
  },
  {
   "cell_type": "code",
   "execution_count": 7,
   "id": "96c974ca",
   "metadata": {},
   "outputs": [
    {
     "name": "stderr",
     "output_type": "stream",
     "text": [
      "100%|██████████| 19/19 [00:02<00:00,  8.61it/s]3<00:02,  5.06it/s, Describe variable: Tax Liens]                  \n",
      "Summarize dataset: 100%|██████████| 173/173 [00:27<00:00,  6.39it/s, Completed]                                                        \n",
      "Generate report structure: 100%|██████████| 1/1 [00:07<00:00,  7.39s/it]\n",
      "Render HTML: 100%|██████████| 1/1 [00:03<00:00,  3.76s/it]\n",
      "Export report to file: 100%|██████████| 1/1 [00:00<00:00, 79.95it/s]\n"
     ]
    }
   ],
   "source": [
    "profile.to_file(\"eda_report.html\")"
   ]
  }
 ],
 "metadata": {
  "kernelspec": {
   "display_name": "venv",
   "language": "python",
   "name": "python3"
  },
  "language_info": {
   "codemirror_mode": {
    "name": "ipython",
    "version": 3
   },
   "file_extension": ".py",
   "mimetype": "text/x-python",
   "name": "python",
   "nbconvert_exporter": "python",
   "pygments_lexer": "ipython3",
   "version": "3.8.10"
  }
 },
 "nbformat": 4,
 "nbformat_minor": 5
}
