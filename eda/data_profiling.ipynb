{
 "cells": [
  {
   "cell_type": "markdown",
   "id": "a19b4002",
   "metadata": {},
   "source": [
    "# Data Profiling\n",
    "\n",
    "## Prerequisites\n",
    "\n",
    "- aws credentials file correctly configured on your local machine with enough permissions to read the csv file from s3\n",
    "- python 3.8-3.9 virtual environment installed and activated (will be used for this notebook)\n",
    "- python requirements installed (run step below only once)\n",
    "\n",
    "## Considerations\n",
    "\n",
    "- CSV sample file was uploaded to AWS S3 as it is (data & structure, filename was renamed), maintaining data privacy in a secure cloud environment.\n",
    "- The following script could be simpler if profiling is done on a local file instead of the aws cloud.\n",
    "\n",
    "## Advanced feature\n",
    "\n",
    "If new files are received for profiling and automated work is required, a dag can be created in Airflow that reuses the script below to complete the following flow:\n",
    " \n",
    "* read file from s3 -> generate profiling report -> upload report to the cloud\n",
    "\n",
    "Based on the previous, an analyst could simply execute a dag to receive a data profiling report."
   ]
  },
  {
   "cell_type": "code",
   "execution_count": null,
   "id": "da5c0bba",
   "metadata": {},
   "outputs": [],
   "source": [
    "# Run only once\n",
    "!pip install ydata-profiling==4.16.1\n",
    "!pip install boto3==1.26.106"
   ]
  },
  {
   "cell_type": "code",
   "execution_count": 1,
   "id": "64f2f91b",
   "metadata": {},
   "outputs": [
    {
     "name": "stderr",
     "output_type": "stream",
     "text": [
      "/home/svargasg/de_novicap_test/venv/lib/python3.8/site-packages/tqdm/auto.py:21: TqdmWarning: IProgress not found. Please update jupyter and ipywidgets. See https://ipywidgets.readthedocs.io/en/stable/user_install.html\n",
      "  from .autonotebook import tqdm as notebook_tqdm\n"
     ]
    },
    {
     "data": {
      "text/html": [
       "\n",
       "            <div>\n",
       "                <ins><a href=\"https://ydata.ai/register\">Upgrade to ydata-sdk</a></ins>\n",
       "                <p>\n",
       "                    Improve your data and profiling with ydata-sdk, featuring data quality scoring, redundancy detection, outlier identification, text validation, and synthetic data generation.\n",
       "                </p>\n",
       "            </div>\n",
       "            "
      ],
      "text/plain": [
       "<IPython.core.display.HTML object>"
      ]
     },
     "metadata": {},
     "output_type": "display_data"
    },
    {
     "name": "stderr",
     "output_type": "stream",
     "text": [
      "2025-08-18 19:33:29,182 [INFO] Found credentials in shared credentials file: ~/.aws/credentials\n",
      "2025-08-18 19:33:29,414 [INFO] Reading file 'de_sample.csv' from bucket 'novi-raw-dev'...\n",
      "2025-08-18 19:33:45,493 [INFO] File was read successfully\n",
      "2025-08-18 19:33:45,496 [INFO] Generating profiling report...\n",
      "100%|██████████| 19/19 [00:01<00:00, 12.53it/s]2<00:01,  7.27it/s, Describe variable: Tax Liens]                  \n",
      "Summarize dataset: 100%|██████████| 173/173 [00:27<00:00,  6.41it/s, Completed]                                                        \n",
      "Generate report structure: 100%|██████████| 1/1 [00:07<00:00,  7.23s/it]\n",
      "Render HTML: 100%|██████████| 1/1 [00:03<00:00,  3.52s/it]\n",
      "Export report to file: 100%|██████████| 1/1 [00:00<00:00, 87.04it/s]\n",
      "2025-08-18 19:34:25,381 [INFO] Report was exported as html in data_profiling_report.html\n"
     ]
    }
   ],
   "source": [
    "import boto3\n",
    "import pandas as pd\n",
    "import logging\n",
    "from io import StringIO\n",
    "from ydata_profiling import ProfileReport\n",
    "\n",
    "logging.basicConfig(\n",
    "    level=logging.INFO,\n",
    "    format=\"%(asctime)s [%(levelname)s] %(message)s\",\n",
    "    force=True # Only in jupyter notebooks\n",
    ")\n",
    "logger = logging.getLogger(__name__)\n",
    "\n",
    "aws_region = 'us-east-1'\n",
    "s3_bucket_name = 'novi-raw-dev'\n",
    "s3_key = 'de_sample.csv'\n",
    "report_path = \"data_profiling_report.html\"\n",
    "\n",
    "def s3_read_csv(bucket_name, key, aws_region):\n",
    "    try:\n",
    "        s3_client = boto3.client(\"s3\", region_name=aws_region)\n",
    "\n",
    "        logger.info(f\"Reading file '{key}' from bucket '{bucket_name}'...\")\n",
    "\n",
    "        response = s3_client.get_object(Bucket=bucket_name, Key=key)\n",
    "\n",
    "        csv_content = response[\"Body\"].read().decode(\"utf-8\")\n",
    "        df = pd.read_csv(StringIO(csv_content), sep=',', header=0, encoding='utf-8')\n",
    "\n",
    "        logger.info(\"File was read successfully\")\n",
    "        return df\n",
    "    except Exception as e:\n",
    "        logger.error(f\"ERROR: {e}\")\n",
    "        raise\n",
    "\n",
    "df = s3_read_csv(s3_bucket_name, s3_key, aws_region)\n",
    "logger.info(\"Generating profiling report...\")\n",
    "profile = ProfileReport(df, title=\"Novicap Profiling Report\")\n",
    "profile.to_file(report_path)\n",
    "logger.info(f\"Report was exported as html in {report_path}\")"
   ]
  }
 ],
 "metadata": {
  "kernelspec": {
   "display_name": "venv",
   "language": "python",
   "name": "python3"
  },
  "language_info": {
   "codemirror_mode": {
    "name": "ipython",
    "version": 3
   },
   "file_extension": ".py",
   "mimetype": "text/x-python",
   "name": "python",
   "nbconvert_exporter": "python",
   "pygments_lexer": "ipython3",
   "version": "3.8.10"
  }
 },
 "nbformat": 4,
 "nbformat_minor": 5
}
