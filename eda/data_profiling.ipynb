{
 "cells": [
  {
   "cell_type": "markdown",
   "id": "a19b4002",
   "metadata": {},
   "source": [
    "# Data Profiling\n",
    "\n",
    "## Prerequisites\n",
    "\n",
    "- aws credentials file correctly configured on your local machine with enough permissions to read the csv file from s3\n",
    "- python 3.8-3.9 virtual environment installed and activated (will be used for this notebook)\n",
    "- python requirements installed (run step below only once)\n",
    "\n",
    "## Considerations\n",
    "\n",
    "- CSV sample file was uploaded to AWS S3 as it is (data & structure, filename was renamed), maintaining data privacy in a secure cloud environment.\n",
    "- The following script could be simpler if profiling is done on a local file instead of the aws cloud.\n",
    "\n",
    "## Advanced feature\n",
    "\n",
    "If new files are received for profiling and automated work is required, a dag can be created in Airflow that reuses the script below to complete the following flow:\n",
    " \n",
    "* read file from s3 -> generate profiling report -> upload report to the cloud\n",
    "\n",
    "Based on the previous, an analyst could simply execute a dag to receive a data profiling report."
   ]
  },
  {
   "cell_type": "code",
   "execution_count": 2,
   "id": "da5c0bba",
   "metadata": {},
   "outputs": [
    {
     "name": "stdout",
     "output_type": "stream",
     "text": [
      "Requirement already satisfied: ydata-profiling==4.16.1 in /home/svargasg/de_novicap_test/venv/lib/python3.8/site-packages (4.16.1)\n",
      "Requirement already satisfied: htmlmin==0.1.12 in /home/svargasg/de_novicap_test/venv/lib/python3.8/site-packages (from ydata-profiling==4.16.1) (0.1.12)\n",
      "Requirement already satisfied: dacite>=1.8 in /home/svargasg/de_novicap_test/venv/lib/python3.8/site-packages (from ydata-profiling==4.16.1) (1.9.2)\n",
      "Requirement already satisfied: statsmodels<1,>=0.13.2 in /home/svargasg/de_novicap_test/venv/lib/python3.8/site-packages (from ydata-profiling==4.16.1) (0.14.1)\n",
      "Requirement already satisfied: jinja2<3.2,>=2.11.1 in /home/svargasg/de_novicap_test/venv/lib/python3.8/site-packages (from ydata-profiling==4.16.1) (3.1.6)\n",
      "Requirement already satisfied: multimethod<2,>=1.4 in /home/svargasg/de_novicap_test/venv/lib/python3.8/site-packages (from ydata-profiling==4.16.1) (1.10)\n",
      "Requirement already satisfied: wordcloud>=1.9.3 in /home/svargasg/de_novicap_test/venv/lib/python3.8/site-packages (from ydata-profiling==4.16.1) (1.9.4)\n",
      "Requirement already satisfied: typeguard<5,>=3 in /home/svargasg/de_novicap_test/venv/lib/python3.8/site-packages (from ydata-profiling==4.16.1) (4.4.0)\n",
      "Requirement already satisfied: numpy<2.2,>=1.16.0 in /home/svargasg/de_novicap_test/venv/lib/python3.8/site-packages (from ydata-profiling==4.16.1) (1.24.4)\n",
      "Requirement already satisfied: phik<0.13,>=0.11.1 in /home/svargasg/de_novicap_test/venv/lib/python3.8/site-packages (from ydata-profiling==4.16.1) (0.12.4)\n",
      "Requirement already satisfied: seaborn<0.14,>=0.10.1 in /home/svargasg/de_novicap_test/venv/lib/python3.8/site-packages (from ydata-profiling==4.16.1) (0.13.2)\n",
      "Requirement already satisfied: scipy<1.16,>=1.4.1 in /home/svargasg/de_novicap_test/venv/lib/python3.8/site-packages (from ydata-profiling==4.16.1) (1.10.1)\n",
      "Requirement already satisfied: imagehash==4.3.1 in /home/svargasg/de_novicap_test/venv/lib/python3.8/site-packages (from ydata-profiling==4.16.1) (4.3.1)\n",
      "Requirement already satisfied: tqdm<5,>=4.48.2 in /home/svargasg/de_novicap_test/venv/lib/python3.8/site-packages (from ydata-profiling==4.16.1) (4.67.1)\n",
      "Requirement already satisfied: matplotlib<=3.10,>=3.5 in /home/svargasg/de_novicap_test/venv/lib/python3.8/site-packages (from ydata-profiling==4.16.1) (3.7.5)\n",
      "Requirement already satisfied: pydantic>=2 in /home/svargasg/de_novicap_test/venv/lib/python3.8/site-packages (from ydata-profiling==4.16.1) (2.10.6)\n",
      "Requirement already satisfied: numba<=0.61,>=0.56.0 in /home/svargasg/de_novicap_test/venv/lib/python3.8/site-packages (from ydata-profiling==4.16.1) (0.58.1)\n",
      "Requirement already satisfied: pandas!=1.4.0,<3.0,>1.1 in /home/svargasg/de_novicap_test/venv/lib/python3.8/site-packages (from ydata-profiling==4.16.1) (2.0.3)\n",
      "Requirement already satisfied: PyYAML<6.1,>=5.0.0 in /home/svargasg/de_novicap_test/venv/lib/python3.8/site-packages (from ydata-profiling==4.16.1) (6.0.2)\n",
      "Requirement already satisfied: requests<3,>=2.24.0 in /home/svargasg/de_novicap_test/venv/lib/python3.8/site-packages (from ydata-profiling==4.16.1) (2.32.4)\n",
      "Requirement already satisfied: visions[type_image_path]<0.8.2,>=0.7.5 in /home/svargasg/de_novicap_test/venv/lib/python3.8/site-packages (from ydata-profiling==4.16.1) (0.8.1)\n",
      "\u001b[33m  WARNING: visions 0.8.1 does not provide the extra 'type_image_path'\u001b[0m\n",
      "Requirement already satisfied: patsy>=0.5.4 in /home/svargasg/de_novicap_test/venv/lib/python3.8/site-packages (from statsmodels<1,>=0.13.2->ydata-profiling==4.16.1) (1.0.1)\n",
      "Requirement already satisfied: packaging>=21.3 in /home/svargasg/de_novicap_test/venv/lib/python3.8/site-packages (from statsmodels<1,>=0.13.2->ydata-profiling==4.16.1) (25.0)\n",
      "Requirement already satisfied: MarkupSafe>=2.0 in /home/svargasg/de_novicap_test/venv/lib/python3.8/site-packages (from jinja2<3.2,>=2.11.1->ydata-profiling==4.16.1) (2.1.5)\n",
      "Requirement already satisfied: pillow in /home/svargasg/de_novicap_test/venv/lib/python3.8/site-packages (from wordcloud>=1.9.3->ydata-profiling==4.16.1) (10.4.0)\n",
      "Requirement already satisfied: importlib-metadata>=3.6; python_version < \"3.10\" in /home/svargasg/de_novicap_test/venv/lib/python3.8/site-packages (from typeguard<5,>=3->ydata-profiling==4.16.1) (8.5.0)\n",
      "Requirement already satisfied: typing-extensions>=4.10.0 in /home/svargasg/de_novicap_test/venv/lib/python3.8/site-packages (from typeguard<5,>=3->ydata-profiling==4.16.1) (4.13.2)\n",
      "Requirement already satisfied: joblib>=0.14.1 in /home/svargasg/de_novicap_test/venv/lib/python3.8/site-packages (from phik<0.13,>=0.11.1->ydata-profiling==4.16.1) (1.4.2)\n",
      "Requirement already satisfied: PyWavelets in /home/svargasg/de_novicap_test/venv/lib/python3.8/site-packages (from imagehash==4.3.1->ydata-profiling==4.16.1) (1.4.1)\n",
      "Requirement already satisfied: cycler>=0.10 in /home/svargasg/de_novicap_test/venv/lib/python3.8/site-packages (from matplotlib<=3.10,>=3.5->ydata-profiling==4.16.1) (0.12.1)\n",
      "Requirement already satisfied: pyparsing>=2.3.1 in /home/svargasg/de_novicap_test/venv/lib/python3.8/site-packages (from matplotlib<=3.10,>=3.5->ydata-profiling==4.16.1) (3.1.4)\n",
      "Requirement already satisfied: kiwisolver>=1.0.1 in /home/svargasg/de_novicap_test/venv/lib/python3.8/site-packages (from matplotlib<=3.10,>=3.5->ydata-profiling==4.16.1) (1.4.7)\n",
      "Requirement already satisfied: fonttools>=4.22.0 in /home/svargasg/de_novicap_test/venv/lib/python3.8/site-packages (from matplotlib<=3.10,>=3.5->ydata-profiling==4.16.1) (4.57.0)\n",
      "Requirement already satisfied: contourpy>=1.0.1 in /home/svargasg/de_novicap_test/venv/lib/python3.8/site-packages (from matplotlib<=3.10,>=3.5->ydata-profiling==4.16.1) (1.1.1)\n",
      "Requirement already satisfied: importlib-resources>=3.2.0; python_version < \"3.10\" in /home/svargasg/de_novicap_test/venv/lib/python3.8/site-packages (from matplotlib<=3.10,>=3.5->ydata-profiling==4.16.1) (6.4.5)\n",
      "Requirement already satisfied: python-dateutil>=2.7 in /home/svargasg/de_novicap_test/venv/lib/python3.8/site-packages (from matplotlib<=3.10,>=3.5->ydata-profiling==4.16.1) (2.9.0.post0)\n",
      "Requirement already satisfied: annotated-types>=0.6.0 in /home/svargasg/de_novicap_test/venv/lib/python3.8/site-packages (from pydantic>=2->ydata-profiling==4.16.1) (0.7.0)\n",
      "Requirement already satisfied: pydantic-core==2.27.2 in /home/svargasg/de_novicap_test/venv/lib/python3.8/site-packages (from pydantic>=2->ydata-profiling==4.16.1) (2.27.2)\n",
      "Requirement already satisfied: llvmlite<0.42,>=0.41.0dev0 in /home/svargasg/de_novicap_test/venv/lib/python3.8/site-packages (from numba<=0.61,>=0.56.0->ydata-profiling==4.16.1) (0.41.1)\n",
      "Requirement already satisfied: tzdata>=2022.1 in /home/svargasg/de_novicap_test/venv/lib/python3.8/site-packages (from pandas!=1.4.0,<3.0,>1.1->ydata-profiling==4.16.1) (2025.2)\n",
      "Requirement already satisfied: pytz>=2020.1 in /home/svargasg/de_novicap_test/venv/lib/python3.8/site-packages (from pandas!=1.4.0,<3.0,>1.1->ydata-profiling==4.16.1) (2025.2)\n",
      "Requirement already satisfied: urllib3<3,>=1.21.1 in /home/svargasg/de_novicap_test/venv/lib/python3.8/site-packages (from requests<3,>=2.24.0->ydata-profiling==4.16.1) (1.26.20)\n",
      "Requirement already satisfied: idna<4,>=2.5 in /home/svargasg/de_novicap_test/venv/lib/python3.8/site-packages (from requests<3,>=2.24.0->ydata-profiling==4.16.1) (3.10)\n",
      "Requirement already satisfied: charset_normalizer<4,>=2 in /home/svargasg/de_novicap_test/venv/lib/python3.8/site-packages (from requests<3,>=2.24.0->ydata-profiling==4.16.1) (3.4.3)\n",
      "Requirement already satisfied: certifi>=2017.4.17 in /home/svargasg/de_novicap_test/venv/lib/python3.8/site-packages (from requests<3,>=2.24.0->ydata-profiling==4.16.1) (2025.8.3)\n",
      "Requirement already satisfied: attrs>=19.3.0 in /home/svargasg/de_novicap_test/venv/lib/python3.8/site-packages (from visions[type_image_path]<0.8.2,>=0.7.5->ydata-profiling==4.16.1) (25.3.0)\n",
      "Requirement already satisfied: puremagic in /home/svargasg/de_novicap_test/venv/lib/python3.8/site-packages (from visions[type_image_path]<0.8.2,>=0.7.5->ydata-profiling==4.16.1) (1.30)\n",
      "Requirement already satisfied: networkx>=2.4 in /home/svargasg/de_novicap_test/venv/lib/python3.8/site-packages (from visions[type_image_path]<0.8.2,>=0.7.5->ydata-profiling==4.16.1) (3.1)\n",
      "Requirement already satisfied: zipp>=3.20 in /home/svargasg/de_novicap_test/venv/lib/python3.8/site-packages (from importlib-metadata>=3.6; python_version < \"3.10\"->typeguard<5,>=3->ydata-profiling==4.16.1) (3.20.2)\n",
      "Requirement already satisfied: six>=1.5 in /home/svargasg/de_novicap_test/venv/lib/python3.8/site-packages (from python-dateutil>=2.7->matplotlib<=3.10,>=3.5->ydata-profiling==4.16.1) (1.17.0)\n",
      "Note: you may need to restart the kernel to use updated packages.\n",
      "Requirement already satisfied: boto3==1.26.106 in /home/svargasg/de_novicap_test/venv/lib/python3.8/site-packages (1.26.106)\n",
      "Requirement already satisfied: botocore<1.30.0,>=1.29.106 in /home/svargasg/de_novicap_test/venv/lib/python3.8/site-packages (from boto3==1.26.106) (1.29.165)\n",
      "Requirement already satisfied: jmespath<2.0.0,>=0.7.1 in /home/svargasg/de_novicap_test/venv/lib/python3.8/site-packages (from boto3==1.26.106) (1.0.1)\n",
      "Requirement already satisfied: s3transfer<0.7.0,>=0.6.0 in /home/svargasg/de_novicap_test/venv/lib/python3.8/site-packages (from boto3==1.26.106) (0.6.2)\n",
      "Requirement already satisfied: python-dateutil<3.0.0,>=2.1 in /home/svargasg/de_novicap_test/venv/lib/python3.8/site-packages (from botocore<1.30.0,>=1.29.106->boto3==1.26.106) (2.9.0.post0)\n",
      "Requirement already satisfied: urllib3<1.27,>=1.25.4 in /home/svargasg/de_novicap_test/venv/lib/python3.8/site-packages (from botocore<1.30.0,>=1.29.106->boto3==1.26.106) (1.26.20)\n",
      "Requirement already satisfied: six>=1.5 in /home/svargasg/de_novicap_test/venv/lib/python3.8/site-packages (from python-dateutil<3.0.0,>=2.1->botocore<1.30.0,>=1.29.106->boto3==1.26.106) (1.17.0)\n",
      "Note: you may need to restart the kernel to use updated packages.\n"
     ]
    }
   ],
   "source": [
    "# Run only once\n",
    "%pip install ydata-profiling==4.16.1\n",
    "%pip install boto3==1.26.106"
   ]
  },
  {
   "cell_type": "code",
   "execution_count": 1,
   "id": "64f2f91b",
   "metadata": {},
   "outputs": [
    {
     "name": "stderr",
     "output_type": "stream",
     "text": [
      "/home/svargasg/de_novicap_test/venv/lib/python3.8/site-packages/tqdm/auto.py:21: TqdmWarning: IProgress not found. Please update jupyter and ipywidgets. See https://ipywidgets.readthedocs.io/en/stable/user_install.html\n",
      "  from .autonotebook import tqdm as notebook_tqdm\n"
     ]
    },
    {
     "data": {
      "text/html": [
       "\n",
       "            <div>\n",
       "                <ins><a href=\"https://ydata.ai/register\">Upgrade to ydata-sdk</a></ins>\n",
       "                <p>\n",
       "                    Improve your data and profiling with ydata-sdk, featuring data quality scoring, redundancy detection, outlier identification, text validation, and synthetic data generation.\n",
       "                </p>\n",
       "            </div>\n",
       "            "
      ],
      "text/plain": [
       "<IPython.core.display.HTML object>"
      ]
     },
     "metadata": {},
     "output_type": "display_data"
    },
    {
     "name": "stderr",
     "output_type": "stream",
     "text": [
      "2025-08-18 19:33:29,182 [INFO] Found credentials in shared credentials file: ~/.aws/credentials\n",
      "2025-08-18 19:33:29,414 [INFO] Reading file 'de_sample.csv' from bucket 'novi-raw-dev'...\n",
      "2025-08-18 19:33:45,493 [INFO] File was read successfully\n",
      "2025-08-18 19:33:45,496 [INFO] Generating profiling report...\n",
      "100%|██████████| 19/19 [00:01<00:00, 12.53it/s]2<00:01,  7.27it/s, Describe variable: Tax Liens]                  \n",
      "Summarize dataset: 100%|██████████| 173/173 [00:27<00:00,  6.41it/s, Completed]                                                        \n",
      "Generate report structure: 100%|██████████| 1/1 [00:07<00:00,  7.23s/it]\n",
      "Render HTML: 100%|██████████| 1/1 [00:03<00:00,  3.52s/it]\n",
      "Export report to file: 100%|██████████| 1/1 [00:00<00:00, 87.04it/s]\n",
      "2025-08-18 19:34:25,381 [INFO] Report was exported as html in data_profiling_report.html\n"
     ]
    }
   ],
   "source": [
    "import boto3\n",
    "import pandas as pd\n",
    "import logging\n",
    "from io import StringIO\n",
    "from ydata_profiling import ProfileReport\n",
    "\n",
    "logging.basicConfig(\n",
    "    level=logging.INFO,\n",
    "    format=\"%(asctime)s [%(levelname)s] %(message)s\",\n",
    "    force=True # Only in jupyter notebooks\n",
    ")\n",
    "logger = logging.getLogger(__name__)\n",
    "\n",
    "aws_region = 'us-east-1'\n",
    "s3_bucket_name = 'novi-raw-dev'\n",
    "s3_key = 'de_sample.csv'\n",
    "report_path = \"data_profiling_report.html\"\n",
    "\n",
    "def s3_read_csv(bucket_name, key, aws_region):\n",
    "    try:\n",
    "        s3_client = boto3.client(\"s3\", region_name=aws_region)\n",
    "\n",
    "        logger.info(f\"Reading file '{key}' from bucket '{bucket_name}'...\")\n",
    "\n",
    "        response = s3_client.get_object(Bucket=bucket_name, Key=key)\n",
    "\n",
    "        csv_content = response[\"Body\"].read().decode(\"utf-8\")\n",
    "        df = pd.read_csv(StringIO(csv_content), sep=',', header=0, encoding='utf-8')\n",
    "\n",
    "        logger.info(\"File was read successfully\")\n",
    "        return df\n",
    "    except Exception as e:\n",
    "        logger.error(f\"ERROR: {e}\")\n",
    "        raise\n",
    "\n",
    "df = s3_read_csv(s3_bucket_name, s3_key, aws_region)\n",
    "logger.info(\"Generating profiling report...\")\n",
    "profile = ProfileReport(df, title=\"Novicap Profiling Report\")\n",
    "profile.to_file(report_path)\n",
    "logger.info(f\"Report was exported as html in {report_path}\")"
   ]
  }
 ],
 "metadata": {
  "kernelspec": {
   "display_name": "venv",
   "language": "python",
   "name": "python3"
  },
  "language_info": {
   "codemirror_mode": {
    "name": "ipython",
    "version": 3
   },
   "file_extension": ".py",
   "mimetype": "text/x-python",
   "name": "python",
   "nbconvert_exporter": "python",
   "pygments_lexer": "ipython3",
   "version": "3.8.10"
  }
 },
 "nbformat": 4,
 "nbformat_minor": 5
}
